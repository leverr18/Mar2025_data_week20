# Import the modules
import numpy as np
import pandas as pd
from pathlib import Path
from sklearn.metrics import confusion_matrix, classification_report, roc_auc_score, roc_curve, RocCurveDisplay
from sklearn.linear_model import LogisticRegression
pd.set_option('display.max_columns', None)
from sklearn.preprocessing import StandardScaler
# visualization
import matplotlib.pyplot as plt
import seaborn as sns












# Read the CSV file from the Resources folder into a Pandas DataFrame
df = pd.read_csv("Resources/lending_data.csv")

# Review the DataFrame
df





# Separate the data into labels and features
target = df.loan_status
features = df.drop(columns=['loan_status'])
# Separate the y variable, the labels
y = target

# Separate the X variable, the features
X = features


# Review the y variable Series
y


# Review the X variable DataFrame
X





# Import the train_test_learn module
from sklearn.model_selection import train_test_split

# Split the data using train_test_split
# Assign a random_state of 1 to the function
X_train, X_test, y_train, y_test = train_test_split(X, y, random_state = 1)


# Scale the features
scaler = StandardScaler()
X_train_scaled = scaler.fit_transform(X_train)
X_test_scaled = scaler.transform(X_test)











model = LogisticRegression(random_state = 1)
lrmodel = model.fit(X_train, y_train)





#  Saving predictions
y_pred = lrmodel.predict(X_test)





# Generate and print confusion matrix
def plot_confusion_matrix(y_true, y_pred, labels=None, title='Confusion Matrix'):
    cm = confusion_matrix(y_true, y_pred)
    plt.figure(figsize=(5, 4))
    sns.heatmap(cm, annot=True, fmt='d', cmap='Blues', cbar=False,
                xticklabels=labels, yticklabels=labels)
    plt.title(title, fontsize=14)
    plt.xlabel('Predicted Label', fontsize=12)
    plt.ylabel('True Label', fontsize=12)
    plt.tight_layout()
    plt.show()





test_matrix = confusion_matrix(y_test, testing_predictions)

# Print the confusion matrix for the testing data
print(test_matrix)


# Create and save the training classification report
training_report = classification_report(y_train, training_predictions)

# Print the training classification report
print(training_report)









